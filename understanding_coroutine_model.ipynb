{
 "cells": [
  {
   "cell_type": "code",
   "execution_count": 244,
   "metadata": {},
   "outputs": [],
   "source": [
    "import re\n",
    "import threading\n",
    "import functools\n",
    "import types\n",
    "from typing import Optional, Union\n",
    "\n",
    "\n",
    "class Scope(object):\n",
    "    _leaf = object()\n",
    "    context = threading.local()\n",
    "\n",
    "    def __init__(self, **kwargs):\n",
    "        self.__dict__.update(kwargs)\n",
    "\n",
    "    def __enter__(self):\n",
    "        type(self).get_contexts().append(self)\n",
    "        return self\n",
    "\n",
    "    def __exit__(self, typ, value, traceback):\n",
    "        type(self).get_contexts().pop()\n",
    "\n",
    "    def __getattr__(self, item):\n",
    "        return self.__dict__.get(item)\n",
    "\n",
    "    @classmethod\n",
    "    def get_contexts(cls):\n",
    "        # no race-condition here, cls.contexts is a thread-local object\n",
    "        # be sure not to override contexts in a subclass however!\n",
    "        if not hasattr(cls.context, \"stack\"):\n",
    "            cls.context.stack = []\n",
    "        return cls.context.stack\n",
    "\n",
    "    @classmethod\n",
    "    def chain(cls, attr, *, leaf=_leaf, predicate=lambda _: True, drop_none=False):\n",
    "        for c in cls.get_contexts():\n",
    "            if predicate(c):\n",
    "                val = getattr(c, attr)\n",
    "                if drop_none and val is None:\n",
    "                    continue\n",
    "                else:\n",
    "                    yield val\n",
    "        if leaf is not cls._leaf:\n",
    "            if not (drop_none and leaf is None):\n",
    "                yield leaf\n",
    "\n",
    "    @classmethod\n",
    "    def variable_name(cls, name: str) -> Optional[str]:\n",
    "        \"\"\"\n",
    "        Generate PyMC4 variable name based on name scope we are currently in.\n",
    "\n",
    "        Parameters\n",
    "        ----------\n",
    "        name : str|None\n",
    "            The desired target name for a variable, can be any, including None\n",
    "\n",
    "        Returns\n",
    "        -------\n",
    "        str : scoped name\n",
    "\n",
    "        Examples\n",
    "        --------\n",
    "        >>> with Scope(name=\"inner\"):\n",
    "        ...     print(Scope.variable_name(\"leaf\"))\n",
    "        inner/leaf\n",
    "        >>> with Scope(name=\"inner\"):\n",
    "        ...     with Scope():\n",
    "        ...         print(Scope.variable_name(\"leaf1\"))\n",
    "        inner/leaf1\n",
    "\n",
    "        empty name results in None name\n",
    "        >>> assert Scope.variable_name(None) is None\n",
    "        >>> assert Scope.variable_name(\"\") is None\n",
    "        \"\"\"\n",
    "        value = \"/\".join(map(str, cls.chain(\"name\", leaf=name, drop_none=True)))\n",
    "        if not value:\n",
    "            return None\n",
    "        else:\n",
    "            return value\n",
    "\n",
    "    @classmethod\n",
    "    def transformed_variable_name(cls, transform_name: str, name: str) -> Optional[str]:\n",
    "        return cls.variable_name(\"__{}_{}\".format(transform_name, name))\n",
    "\n",
    "    def __repr__(self):\n",
    "        return \"Scope({})\".format(self.__dict__)\n",
    "\n",
    "\n",
    "def name_scope(name):\n",
    "    return Scope(name=name)\n",
    "\n",
    "\n",
    "class NameParts:\n",
    "    NAME_RE = re.compile(r\"^(?:__(?P<transform>[^_]+)_)?(?P<name>[^_].*)$\")\n",
    "    NAME_ERROR_MESSAGE = (\n",
    "        \"Invalid name: `{}`, the correct one should look like: `__transform_name` or `name`, \"\n",
    "        \"note only one underscore between the transform and actual name\"\n",
    "    )\n",
    "    UNTRANSFORMED_NAME_ERROR_MESSAGE = (\n",
    "        \"Invalid name: `{}`, the correct one should look like: \" \"`name` without leading underscore\"\n",
    "    )\n",
    "    __slots__ = (\"path\", \"transform_name\", \"untransformed_name\")\n",
    "\n",
    "    @classmethod\n",
    "    def is_valid_untransformed_name(cls, name):\n",
    "        print(\"Name received is:\", name)\n",
    "        match = cls.NAME_RE.match(name)\n",
    "        return match is not None and match[\"transform\"] is None\n",
    "\n",
    "    @classmethod\n",
    "    def is_valid_name(cls, name):\n",
    "        match = cls.NAME_RE.match(name)\n",
    "        return match is not None\n",
    "\n",
    "    def __init__(self, path, transform_name, untransformed_name):\n",
    "        self.path = tuple(path)\n",
    "        self.untransformed_name = untransformed_name\n",
    "        self.transform_name = transform_name\n",
    "\n",
    "    @classmethod\n",
    "    def from_name(cls, name):\n",
    "        split = name.split(\"/\")\n",
    "        path, original_name = split[:-1], split[-1]\n",
    "        match = cls.NAME_RE.match(original_name)\n",
    "        if not cls.is_valid_name(name):\n",
    "            raise ValueError(cls.NAME_ERROR_MESSAGE.format(name))\n",
    "        return cls(path, match[\"transform\"], match[\"name\"])\n",
    "\n",
    "    @property\n",
    "    def original_name(self):\n",
    "        if self.is_transformed:\n",
    "            return \"__{}_{}\".format(self.transform_name, self.untransformed_name)\n",
    "        else:\n",
    "            return self.untransformed_name\n",
    "\n",
    "    @property\n",
    "    def full_original_name(self):\n",
    "        return \"/\".join(self.path + (self.original_name,))\n",
    "\n",
    "    @property\n",
    "    def full_untransformed_name(self):\n",
    "        return \"/\".join(self.path + (self.untransformed_name,))\n",
    "\n",
    "    @property\n",
    "    def is_transformed(self):\n",
    "        return self.transform_name is not None\n",
    "\n",
    "    def __repr__(self):\n",
    "        return \"<NameParts of {}>\".format(self.full_original_name)\n",
    "\n",
    "    def replace_transform(self, transform_name):\n",
    "        return self.__class__(self.path, transform_name, self.untransformed_name)"
   ]
  },
  {
   "cell_type": "code",
   "execution_count": 290,
   "metadata": {},
   "outputs": [],
   "source": [
    "# Biwrap function\n",
    "# Biwrap absorbs all the positional and keyword arguments.\n",
    "\n",
    "def biwrap(wrapper):\n",
    "    \"\"\"Allow for optional keyword arguments in lower level decoratrors.\n",
    "\n",
    "    Notes\n",
    "    -----\n",
    "    Currently this is only used to wrap pm.Model to capture model runtime flags such as\n",
    "    keep_auxiliary and keep_return. See pm.Model for all possible keyword parameters\n",
    "\n",
    "    \"\"\"\n",
    "\n",
    "    @functools.wraps(wrapper)\n",
    "    def enhanced(*args, **kwargs):\n",
    "        print(\"Args in enhanced:\", args)\n",
    "        print(\"Kwargs in enhanced:\", kwargs)\n",
    "\n",
    "        # Check if decorated method is bound to a class\n",
    "        print(\"Wrapper name is:\", wrapper.__name__)\n",
    "        print(\"Length of args: \", len(args))\n",
    "        is_bound_method = hasattr(args[0], wrapper.__name__) if args else False\n",
    "        if is_bound_method:\n",
    "            # If bound to a class, `self` will be an argument\n",
    "            print(\"Is bound\")\n",
    "            count = 1\n",
    "        else:\n",
    "            count = 0\n",
    "        if len(args) > count:\n",
    "            # If lower level decorator is not called user model will be an argument\n",
    "            # fill in parameters and call pm.Model\n",
    "            newfn = wrapper(*args, **kwargs)\n",
    "            print(\"Returning called function\")\n",
    "            return newfn\n",
    "        else:\n",
    "            # If lower level decorator is called user model will not be passed in as an argument\n",
    "            # prefill args and kwargs but do not call pm.Model\n",
    "            newwrapper = functools.partial(wrapper, *args, **kwargs)\n",
    "            print(\"Returning functools.partial\")\n",
    "            return newwrapper\n",
    "\n",
    "    return enhanced"
   ]
  },
  {
   "cell_type": "markdown",
   "metadata": {},
   "source": [
    "## Behaviour 1\n",
    "If at least one positional argument is supplied at the function call, then actual function is called with same arguments. Can result in error if mismatch in positional arguments"
   ]
  },
  {
   "cell_type": "code",
   "execution_count": 291,
   "metadata": {},
   "outputs": [],
   "source": [
    "@biwrap\n",
    "def model(name, times):\n",
    "    print(f\"Hi, {name}\\n\"*times)"
   ]
  },
  {
   "cell_type": "code",
   "execution_count": 292,
   "metadata": {},
   "outputs": [
    {
     "name": "stdout",
     "output_type": "stream",
     "text": [
      "Args in enhanced: ('Sayam', 10)\n",
      "Kwargs in enhanced: {}\n",
      "Wrapper name is: model\n",
      "Length of args:  2\n",
      "Hi, Sayam\n",
      "Hi, Sayam\n",
      "Hi, Sayam\n",
      "Hi, Sayam\n",
      "Hi, Sayam\n",
      "Hi, Sayam\n",
      "Hi, Sayam\n",
      "Hi, Sayam\n",
      "Hi, Sayam\n",
      "Hi, Sayam\n",
      "\n",
      "Returning called function\n"
     ]
    }
   ],
   "source": [
    "model(\"Sayam\", 10)"
   ]
  },
  {
   "cell_type": "code",
   "execution_count": 293,
   "metadata": {},
   "outputs": [
    {
     "name": "stdout",
     "output_type": "stream",
     "text": [
      "Args in enhanced: ('tiger',)\n",
      "Kwargs in enhanced: {}\n",
      "Wrapper name is: model\n",
      "Length of args:  1\n"
     ]
    },
    {
     "ename": "TypeError",
     "evalue": "model() missing 1 required positional argument: 'times'",
     "output_type": "error",
     "traceback": [
      "\u001b[0;31m---------------------------------------------------------------------------\u001b[0m",
      "\u001b[0;31mTypeError\u001b[0m                                 Traceback (most recent call last)",
      "\u001b[0;32m<ipython-input-293-c34a90531ff1>\u001b[0m in \u001b[0;36m<module>\u001b[0;34m\u001b[0m\n\u001b[0;32m----> 1\u001b[0;31m \u001b[0mmodel\u001b[0m\u001b[0;34m(\u001b[0m\u001b[0;34m'tiger'\u001b[0m\u001b[0;34m)\u001b[0m  \u001b[0;31m# Error because times argument is not supplied\u001b[0m\u001b[0;34m\u001b[0m\u001b[0;34m\u001b[0m\u001b[0m\n\u001b[0m",
      "\u001b[0;32m<ipython-input-290-9d662865c6c3>\u001b[0m in \u001b[0;36menhanced\u001b[0;34m(*args, **kwargs)\u001b[0m\n\u001b[1;32m     30\u001b[0m             \u001b[0;31m# If lower level decorator is not called user model will be an argument\u001b[0m\u001b[0;34m\u001b[0m\u001b[0;34m\u001b[0m\u001b[0;34m\u001b[0m\u001b[0m\n\u001b[1;32m     31\u001b[0m             \u001b[0;31m# fill in parameters and call pm.Model\u001b[0m\u001b[0;34m\u001b[0m\u001b[0;34m\u001b[0m\u001b[0;34m\u001b[0m\u001b[0m\n\u001b[0;32m---> 32\u001b[0;31m             \u001b[0mnewfn\u001b[0m \u001b[0;34m=\u001b[0m \u001b[0mwrapper\u001b[0m\u001b[0;34m(\u001b[0m\u001b[0;34m*\u001b[0m\u001b[0margs\u001b[0m\u001b[0;34m,\u001b[0m \u001b[0;34m**\u001b[0m\u001b[0mkwargs\u001b[0m\u001b[0;34m)\u001b[0m\u001b[0;34m\u001b[0m\u001b[0;34m\u001b[0m\u001b[0m\n\u001b[0m\u001b[1;32m     33\u001b[0m             \u001b[0mprint\u001b[0m\u001b[0;34m(\u001b[0m\u001b[0;34m\"Returning called function\"\u001b[0m\u001b[0;34m)\u001b[0m\u001b[0;34m\u001b[0m\u001b[0;34m\u001b[0m\u001b[0m\n\u001b[1;32m     34\u001b[0m             \u001b[0;32mreturn\u001b[0m \u001b[0mnewfn\u001b[0m\u001b[0;34m\u001b[0m\u001b[0;34m\u001b[0m\u001b[0m\n",
      "\u001b[0;31mTypeError\u001b[0m: model() missing 1 required positional argument: 'times'"
     ]
    }
   ],
   "source": [
    "model('tiger')  # Error because times argument is not supplied"
   ]
  },
  {
   "cell_type": "markdown",
   "metadata": {},
   "source": [
    "## Behaviour 2\n",
    "If no positional arguments are supplied, then calling the function returns a functools.partial func that again needs to be called."
   ]
  },
  {
   "cell_type": "code",
   "execution_count": 294,
   "metadata": {},
   "outputs": [],
   "source": [
    "@biwrap\n",
    "def model(name, times):\n",
    "    print(f\"Hi, {name}\\n\"*times)"
   ]
  },
  {
   "cell_type": "code",
   "execution_count": 295,
   "metadata": {},
   "outputs": [
    {
     "name": "stdout",
     "output_type": "stream",
     "text": [
      "Args in enhanced: ()\n",
      "Kwargs in enhanced: {}\n",
      "Wrapper name is: model\n",
      "Length of args:  0\n",
      "Returning functools.partial\n",
      "Hi, sayam\n",
      "Hi, sayam\n",
      "Hi, sayam\n",
      "Hi, sayam\n",
      "Hi, sayam\n",
      "Hi, sayam\n",
      "Hi, sayam\n",
      "Hi, sayam\n",
      "Hi, sayam\n",
      "Hi, sayam\n",
      "\n"
     ]
    }
   ],
   "source": [
    "partial_object = model()\n",
    "partial_object('sayam', 10)"
   ]
  },
  {
   "cell_type": "markdown",
   "metadata": {},
   "source": [
    "## Behaviour 3 \n",
    "I can hack this line by giving a wrapping name to any function in dir(args[0])\n",
    "```python\n",
    "is_bound_method = hasattr(args[0], wrapper.__name__) if args else False\n",
    "```"
   ]
  },
  {
   "cell_type": "code",
   "execution_count": 296,
   "metadata": {},
   "outputs": [],
   "source": [
    "@biwrap\n",
    "def upper(name):\n",
    "    print(\"Uppercased name is:\", name.upper())"
   ]
  },
  {
   "cell_type": "code",
   "execution_count": 297,
   "metadata": {},
   "outputs": [
    {
     "name": "stdout",
     "output_type": "stream",
     "text": [
      "Args in enhanced: ('Hello',)\n",
      "Kwargs in enhanced: {}\n",
      "Wrapper name is: upper\n",
      "Length of args:  1\n",
      "Is bound\n",
      "Returning functools.partial\n",
      "Uppercased name is: HELLO\n"
     ]
    }
   ],
   "source": [
    "upper(\"Hello\")()"
   ]
  },
  {
   "cell_type": "code",
   "execution_count": 298,
   "metadata": {},
   "outputs": [],
   "source": [
    "class Model:\n",
    "    \"\"\"Base coroutine object.\n",
    "\n",
    "    Supports iteration over random variables via `.control_flow`.\n",
    "    \"\"\"\n",
    "\n",
    "    # this is gonna be used for generator-like objects,\n",
    "    # prohibit modification of this dict wrapping it into a MappingProxy\n",
    "    default_model_info = types.MappingProxyType(\n",
    "        dict(keep_auxiliary=True, keep_return=False, scope=name_scope(None), name=None)\n",
    "    )\n",
    "\n",
    "    @staticmethod\n",
    "    def validate_name(name: Optional[Union[int, str]]) -> Optional[str]:\n",
    "        \"\"\"Validate the type of the name argument.\"\"\"\n",
    "        if name is not None and not isinstance(name, (int, str)):\n",
    "            raise ValueError(\"name should be either `str` or `int`, got type {}\".format(type(name)))\n",
    "        elif name is None:\n",
    "            return None\n",
    "        else:\n",
    "            return str(name)\n",
    "\n",
    "    def __init__(self, genfn, *, name=None, keep_auxiliary=True, keep_return=True):\n",
    "        self.genfn = genfn\n",
    "        self.name = self.validate_name(name)\n",
    "        self.model_info = dict(\n",
    "            keep_auxiliary=keep_auxiliary,\n",
    "            keep_return=keep_return,\n",
    "            scope=name_scope(self.name),\n",
    "            name=self.name,\n",
    "        )\n",
    "\n",
    "    def control_flow(self):\n",
    "        \"\"\"Iterate over the random variables in the model.\"\"\"\n",
    "        return (yield from self.genfn())\n"
   ]
  },
  {
   "cell_type": "code",
   "execution_count": 310,
   "metadata": {},
   "outputs": [],
   "source": [
    "_no_name_provided = object()\n",
    "\n",
    "def get_name(default, base_fn, name) -> Optional[str]:\n",
    "    \"\"\"Parse the name of an rv from arguments.\n",
    "\n",
    "    Parameters\n",
    "    ----------\n",
    "    default : _no_name_provided, str, or None\n",
    "        Default to fall back to if it is not _no_name_provided\n",
    "    base_fn : callable\n",
    "        In case the random variable has a name attribute\n",
    "        and defualt is _no_name_provided, use that\n",
    "    name : _no_name_provided, str, or None\n",
    "        Provided argument\n",
    "\n",
    "    Returns\n",
    "    -------\n",
    "    str or None\n",
    "    \"\"\"\n",
    "    if name is _no_name_provided:\n",
    "        if default is not _no_name_provided:\n",
    "            name = default\n",
    "        elif hasattr(base_fn, \"name\"):\n",
    "            name = getattr(base_fn, \"name\")\n",
    "        elif hasattr(base_fn, \"__name__\"):\n",
    "            name = base_fn.__name__\n",
    "    return name\n",
    "\n",
    "\n",
    "class ModelTemplate:\n",
    "    \"\"\"Model Template -- generative model with metadata.\n",
    "\n",
    "    ModelTemplate is a callable object that represents a generative process. A generative process samples\n",
    "    from prior distributions and allows them to interact in arbitrarily-complex, user-defined ways.\n",
    "\n",
    "    Parameters\n",
    "    ----------\n",
    "    template : callable\n",
    "        Generative process, that accepts any arguments as conditioners and returns realizations if any.\n",
    "    keep_auxiliary : bool\n",
    "        Generative process may require some auxiliary variables to be created, but they are probably will not be used\n",
    "        anywhere else. In that case it is useful to tell PyMC4 engine that we can get rid of auxiliary variables\n",
    "        as long as they are not needed any more.\n",
    "    keep_return : bool\n",
    "        The return value of the model will be recorded\n",
    "    \"\"\"\n",
    "\n",
    "    def __init__(self, template, *, name=None, keep_auxiliary=True, keep_return=True):\n",
    "        self.template = template\n",
    "        print(\"Inside ModelTemplate Constructor self.name:\", name)\n",
    "        self.name = name\n",
    "        self.keep_auxiliary = keep_auxiliary\n",
    "        self.keep_return = keep_return\n",
    "\n",
    "    def __call__(\n",
    "        self, *args, name=_no_name_provided, keep_auxiliary=None, keep_return=None, **kwargs\n",
    "    ):\n",
    "        genfn = functools.partial(self.template, *args, **kwargs)\n",
    "        name = get_name(self.name, self.template, name)\n",
    "        if name is not None and not NameParts.is_valid_untransformed_name(name):\n",
    "            # throw an informative message to fix a name\n",
    "            raise ValueError(NameParts.UNTRANSFORMED_NAME_ERROR_MESSAGE)\n",
    "        if keep_auxiliary is None:\n",
    "            keep_auxiliary = self.keep_auxiliary\n",
    "        if keep_return is None:\n",
    "            keep_return = self.keep_return\n",
    "\n",
    "        return Model(genfn, name=name, keep_auxiliary=keep_auxiliary, keep_return=keep_return)\n"
   ]
  },
  {
   "cell_type": "code",
   "execution_count": 313,
   "metadata": {},
   "outputs": [],
   "source": [
    "_no_name_provided = object()\n",
    "\n",
    "@biwrap\n",
    "def model(genfn, *, name=_no_name_provided, keep_auxiliary=True, keep_return=True, method=False):\n",
    "    \"\"\"Flexibly wrap a generator function into a Model template.\"\"\"\n",
    "    \n",
    "    print(\"Inside model, before if-else:, name:\", name, \"genfn_name:\", genfn.__name__)\n",
    "    if method:\n",
    "        # What is this block for?\n",
    "        template = ModelTemplate(\n",
    "            genfn, name=name, keep_auxiliary=keep_auxiliary, keep_return=keep_return\n",
    "        )\n",
    "\n",
    "        @functools.wraps(genfn)\n",
    "        def wrapped(*args, **kwargs):\n",
    "            return template(*args, **kwargs)\n",
    "\n",
    "        return wrapped\n",
    "    else:\n",
    "        template = ModelTemplate(\n",
    "            genfn, name=name, keep_auxiliary=keep_auxiliary, keep_return=keep_return\n",
    "        )\n",
    "        print(\"genfn:\", genfn)\n",
    "        print(\"name:\", name)\n",
    "        print(\"keep_auxiliary:\", keep_auxiliary)\n",
    "        print(\"keep_return:\", keep_return)\n",
    "        return template"
   ]
  },
  {
   "cell_type": "markdown",
   "metadata": {},
   "source": [
    "As the model function accepts no positional arguments, implies len(args) = 0, implies biwrap will return functools.partial object"
   ]
  },
  {
   "cell_type": "code",
   "execution_count": 318,
   "metadata": {},
   "outputs": [
    {
     "name": "stdout",
     "output_type": "stream",
     "text": [
      "Args in enhanced: ()\n",
      "Kwargs in enhanced: {}\n",
      "Wrapper name is: model\n",
      "Length of args:  0\n",
      "Returning functools.partial\n",
      "Inside model, before if-else:, name: <object object at 0x1102b8c90> genfn_name: superman\n",
      "Inside ModelTemplate Constructor self.name: <object object at 0x1102b8c90>\n",
      "genfn: <function superman at 0x110fd34d0>\n",
      "name: <object object at 0x1102b8c90>\n",
      "keep_auxiliary: True\n",
      "keep_return: True\n",
      "Name received is: <object object at 0x1102b8440>\n"
     ]
    },
    {
     "ename": "TypeError",
     "evalue": "expected string or bytes-like object",
     "output_type": "error",
     "traceback": [
      "\u001b[0;31m---------------------------------------------------------------------------\u001b[0m",
      "\u001b[0;31mTypeError\u001b[0m                                 Traceback (most recent call last)",
      "\u001b[0;32m<ipython-input-318-42f5885e76dc>\u001b[0m in \u001b[0;36m<module>\u001b[0;34m\u001b[0m\n\u001b[1;32m      3\u001b[0m     \u001b[0mprint\u001b[0m\u001b[0;34m(\u001b[0m\u001b[0;34m\"Superman\"\u001b[0m\u001b[0;34m)\u001b[0m\u001b[0;34m\u001b[0m\u001b[0;34m\u001b[0m\u001b[0m\n\u001b[1;32m      4\u001b[0m \u001b[0;34m\u001b[0m\u001b[0m\n\u001b[0;32m----> 5\u001b[0;31m \u001b[0msuperman\u001b[0m\u001b[0;34m(\u001b[0m\u001b[0;34m)\u001b[0m\u001b[0;34m\u001b[0m\u001b[0;34m\u001b[0m\u001b[0m\n\u001b[0m",
      "\u001b[0;32m<ipython-input-310-453e10309f76>\u001b[0m in \u001b[0;36m__call__\u001b[0;34m(self, name, keep_auxiliary, keep_return, *args, **kwargs)\u001b[0m\n\u001b[1;32m     58\u001b[0m         \u001b[0mgenfn\u001b[0m \u001b[0;34m=\u001b[0m \u001b[0mfunctools\u001b[0m\u001b[0;34m.\u001b[0m\u001b[0mpartial\u001b[0m\u001b[0;34m(\u001b[0m\u001b[0mself\u001b[0m\u001b[0;34m.\u001b[0m\u001b[0mtemplate\u001b[0m\u001b[0;34m,\u001b[0m \u001b[0;34m*\u001b[0m\u001b[0margs\u001b[0m\u001b[0;34m,\u001b[0m \u001b[0;34m**\u001b[0m\u001b[0mkwargs\u001b[0m\u001b[0;34m)\u001b[0m\u001b[0;34m\u001b[0m\u001b[0;34m\u001b[0m\u001b[0m\n\u001b[1;32m     59\u001b[0m         \u001b[0mname\u001b[0m \u001b[0;34m=\u001b[0m \u001b[0mget_name\u001b[0m\u001b[0;34m(\u001b[0m\u001b[0mself\u001b[0m\u001b[0;34m.\u001b[0m\u001b[0mname\u001b[0m\u001b[0;34m,\u001b[0m \u001b[0mself\u001b[0m\u001b[0;34m.\u001b[0m\u001b[0mtemplate\u001b[0m\u001b[0;34m,\u001b[0m \u001b[0mname\u001b[0m\u001b[0;34m)\u001b[0m\u001b[0;34m\u001b[0m\u001b[0;34m\u001b[0m\u001b[0m\n\u001b[0;32m---> 60\u001b[0;31m         \u001b[0;32mif\u001b[0m \u001b[0mname\u001b[0m \u001b[0;32mis\u001b[0m \u001b[0;32mnot\u001b[0m \u001b[0;32mNone\u001b[0m \u001b[0;32mand\u001b[0m \u001b[0;32mnot\u001b[0m \u001b[0mNameParts\u001b[0m\u001b[0;34m.\u001b[0m\u001b[0mis_valid_untransformed_name\u001b[0m\u001b[0;34m(\u001b[0m\u001b[0mname\u001b[0m\u001b[0;34m)\u001b[0m\u001b[0;34m:\u001b[0m\u001b[0;34m\u001b[0m\u001b[0;34m\u001b[0m\u001b[0m\n\u001b[0m\u001b[1;32m     61\u001b[0m             \u001b[0;31m# throw an informative message to fix a name\u001b[0m\u001b[0;34m\u001b[0m\u001b[0;34m\u001b[0m\u001b[0;34m\u001b[0m\u001b[0m\n\u001b[1;32m     62\u001b[0m             \u001b[0;32mraise\u001b[0m \u001b[0mValueError\u001b[0m\u001b[0;34m(\u001b[0m\u001b[0mNameParts\u001b[0m\u001b[0;34m.\u001b[0m\u001b[0mUNTRANSFORMED_NAME_ERROR_MESSAGE\u001b[0m\u001b[0;34m)\u001b[0m\u001b[0;34m\u001b[0m\u001b[0;34m\u001b[0m\u001b[0m\n",
      "\u001b[0;32m<ipython-input-244-9442350d9b35>\u001b[0m in \u001b[0;36mis_valid_untransformed_name\u001b[0;34m(cls, name)\u001b[0m\n\u001b[1;32m    104\u001b[0m     \u001b[0;32mdef\u001b[0m \u001b[0mis_valid_untransformed_name\u001b[0m\u001b[0;34m(\u001b[0m\u001b[0mcls\u001b[0m\u001b[0;34m,\u001b[0m \u001b[0mname\u001b[0m\u001b[0;34m)\u001b[0m\u001b[0;34m:\u001b[0m\u001b[0;34m\u001b[0m\u001b[0;34m\u001b[0m\u001b[0m\n\u001b[1;32m    105\u001b[0m         \u001b[0mprint\u001b[0m\u001b[0;34m(\u001b[0m\u001b[0;34m\"Name received is:\"\u001b[0m\u001b[0;34m,\u001b[0m \u001b[0mname\u001b[0m\u001b[0;34m)\u001b[0m\u001b[0;34m\u001b[0m\u001b[0;34m\u001b[0m\u001b[0m\n\u001b[0;32m--> 106\u001b[0;31m         \u001b[0mmatch\u001b[0m \u001b[0;34m=\u001b[0m \u001b[0mcls\u001b[0m\u001b[0;34m.\u001b[0m\u001b[0mNAME_RE\u001b[0m\u001b[0;34m.\u001b[0m\u001b[0mmatch\u001b[0m\u001b[0;34m(\u001b[0m\u001b[0mname\u001b[0m\u001b[0;34m)\u001b[0m\u001b[0;34m\u001b[0m\u001b[0;34m\u001b[0m\u001b[0m\n\u001b[0m\u001b[1;32m    107\u001b[0m         \u001b[0;32mreturn\u001b[0m \u001b[0mmatch\u001b[0m \u001b[0;32mis\u001b[0m \u001b[0;32mnot\u001b[0m \u001b[0;32mNone\u001b[0m \u001b[0;32mand\u001b[0m \u001b[0mmatch\u001b[0m\u001b[0;34m[\u001b[0m\u001b[0;34m\"transform\"\u001b[0m\u001b[0;34m]\u001b[0m \u001b[0;32mis\u001b[0m \u001b[0;32mNone\u001b[0m\u001b[0;34m\u001b[0m\u001b[0;34m\u001b[0m\u001b[0m\n\u001b[1;32m    108\u001b[0m \u001b[0;34m\u001b[0m\u001b[0m\n",
      "\u001b[0;31mTypeError\u001b[0m: expected string or bytes-like object"
     ]
    }
   ],
   "source": [
    "@model()\n",
    "def superman():\n",
    "    print(\"Superman\")\n",
    "\n",
    "superman()"
   ]
  },
  {
   "cell_type": "code",
   "execution_count": 309,
   "metadata": {},
   "outputs": [
    {
     "name": "stdout",
     "output_type": "stream",
     "text": [
      "Args in enhanced: ()\n",
      "Kwargs in enhanced: {'name': 'tiger'}\n",
      "Wrapper name is: model\n",
      "Length of args:  0\n",
      "Returning functools.partial\n",
      "Inside model, before if-else:, name: tiger genfn_name: superman\n",
      "Inside ModelTemplate Constructor self.name: tiger\n",
      "genfn: <function superman at 0x110ff9b90>\n",
      "name: tiger\n",
      "keep_auxiliary: True\n",
      "keep_return: True\n"
     ]
    }
   ],
   "source": [
    "def superman():\n",
    "    print(\"Superman\")\n",
    "\n",
    "decorated_superman = model(name=\"tiger\")(superman)"
   ]
  },
  {
   "cell_type": "code",
   "execution_count": null,
   "metadata": {},
   "outputs": [],
   "source": []
  },
  {
   "cell_type": "code",
   "execution_count": null,
   "metadata": {},
   "outputs": [],
   "source": []
  },
  {
   "cell_type": "code",
   "execution_count": null,
   "metadata": {},
   "outputs": [],
   "source": []
  }
 ],
 "metadata": {
  "kernelspec": {
   "display_name": "Python 3.7.7 64-bit ('for_pymc4': venv)",
   "language": "python",
   "name": "python37764bitforpymc4venva1421ada3e58437bbcf8e3daba9e0726"
  },
  "language_info": {
   "codemirror_mode": {
    "name": "ipython",
    "version": 3
   },
   "file_extension": ".py",
   "mimetype": "text/x-python",
   "name": "python",
   "nbconvert_exporter": "python",
   "pygments_lexer": "ipython3",
   "version": "3.7.7"
  }
 },
 "nbformat": 4,
 "nbformat_minor": 2
}
